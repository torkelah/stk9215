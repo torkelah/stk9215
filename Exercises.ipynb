{
 "cells": [
  {
   "cell_type": "code",
   "execution_count": null,
   "id": "liberal-mission",
   "metadata": {},
   "outputs": [],
   "source": [
    "%matplotlib inline"
   ]
  },
  {
   "cell_type": "code",
   "execution_count": null,
   "id": "available-century",
   "metadata": {},
   "outputs": [],
   "source": [
    "import matplotlib as mpl\n",
    "import matplotlib.pyplot as plt\n",
    "import numpy as np\n",
    "import scipy as sp\n",
    "import seaborn as sns\n",
    "import sklearn\n",
    "from sklearn import datasets\n",
    "import torch"
   ]
  },
  {
   "cell_type": "markdown",
   "id": "occupied-latvia",
   "metadata": {},
   "source": [
    "# Visualization code"
   ]
  },
  {
   "cell_type": "code",
   "execution_count": null,
   "id": "hourly-usage",
   "metadata": {},
   "outputs": [],
   "source": [
    "def draw_contour(ax, f, xlow, xhigh, ylow, yhigh):\n",
    "    x,y = np.meshgrid(np.arange(xlow, xhigh, 0.1), np.arange(ylow, yhigh, 0.1))\n",
    "    #Slow loop\n",
    "    z = np.zeros(np.shape(x))\n",
    "    for i in np.arange(0, np.shape(x)[0]):\n",
    "        for j in np.arange(0, np.shape(x)[1]):\n",
    "            z[i,j] = f(np.array((x[i,j],y[i,j])))\n",
    "    ax.contour(x,y,z, levels=10, alpha=0.2)\n",
    "    \n",
    "def draw_search_path(ax, steps):\n",
    "    linecoll = mpl.collections.LineCollection(zip(steps[:-1], steps[1:]), colors='r')\n",
    "    linecoll.set_linestyle('-')\n",
    "    ax.add_collection(linecoll)\n",
    "    ax.scatter(steps[0][0], steps[0][1], marker='s', c='r') #Start point\n",
    "    ax.scatter(steps[-1][0], steps[-1][1], marker='*', c='b') #End point\n",
    "    ax.scatter([pos[0] for pos in steps[1:-1]], [pos[1] for pos in steps[1:-1]], marker='.', c = 'r') #Middle points\n",
    "\n",
    "\n",
    "def illustrate_search(ax, f, steps, xlow, xhigh, ylow, yhigh):\n",
    "    print(\"Iteration sequence:\")\n",
    "    print(steps)\n",
    "    draw_contour(ax, f, xlow, xhigh, ylow, yhigh)\n",
    "    draw_search_path(ax, steps)"
   ]
  },
  {
   "cell_type": "code",
   "execution_count": null,
   "id": "sufficient-things",
   "metadata": {},
   "outputs": [],
   "source": [
    "class QuadraticObjective(object):\n",
    "    def __init__(self, a, b, c):\n",
    "        self.a = a\n",
    "        self.b = b\n",
    "        self.c = c\n",
    "    \n",
    "    def value(self, p):\n",
    "        return 0.5 * np.dot(p, np.dot(self.a, p)) + np.dot(self.b, p) + self.c\n",
    "    \n",
    "    def grad(self, p):\n",
    "        return np.dot(self.a, p) + self.b\n",
    "    \n",
    "    def hess(self, p):\n",
    "        return self.a"
   ]
  },
  {
   "cell_type": "markdown",
   "id": "consecutive-mistress",
   "metadata": {},
   "source": [
    "Algorithms\n",
    "========="
   ]
  },
  {
   "cell_type": "code",
   "execution_count": null,
   "id": "cardiac-tooth",
   "metadata": {},
   "outputs": [],
   "source": [
    "def fake_algorithm():\n",
    "    return [[-2,0],[-1,-1],[3,-1]]"
   ]
  },
  {
   "cell_type": "markdown",
   "id": "respiratory-titanium",
   "metadata": {},
   "source": [
    "Algorithm tests\n",
    "=============="
   ]
  },
  {
   "cell_type": "code",
   "execution_count": null,
   "id": "latest-major",
   "metadata": {},
   "outputs": [],
   "source": [
    "simple_quad_obj = QuadraticObjective(np.eye(2), np.array([-2.0, 4.0]), 5.0)\n",
    "stretched_quad_obj = QuadraticObjective(np.array([[10.0,-1.0],[-1.0, 2.0]]), np.array([3.0, 3.0]), 2.0)"
   ]
  },
  {
   "cell_type": "code",
   "execution_count": null,
   "id": "valued-stable",
   "metadata": {},
   "outputs": [],
   "source": [
    "fig, ax = plt.subplots(1,1)\n",
    "illustrate_search(ax, simple_quad_obj.value, fake_algorithm(), -5, 5, -5, 5)\n",
    "plt.draw()\n",
    "plt.show()"
   ]
  },
  {
   "cell_type": "code",
   "execution_count": null,
   "id": "brutal-ethnic",
   "metadata": {},
   "outputs": [],
   "source": [
    "fig, ax = plt.subplots(1,1)\n",
    "illustrate_search(ax, stretched_quad_obj.value, fake_algorithm(), -10, 10, -10, 10)\n",
    "plt.draw()\n",
    "plt.show()"
   ]
  },
  {
   "cell_type": "markdown",
   "id": "stupid-patrol",
   "metadata": {},
   "source": [
    "# Gradient descent and Newton's Method"
   ]
  },
  {
   "cell_type": "code",
   "execution_count": null,
   "id": "close-worse",
   "metadata": {},
   "outputs": [],
   "source": []
  },
  {
   "cell_type": "markdown",
   "id": "dominant-break",
   "metadata": {},
   "source": [
    "### Steepest Descent"
   ]
  },
  {
   "cell_type": "code",
   "execution_count": null,
   "id": "female-sister",
   "metadata": {},
   "outputs": [],
   "source": [
    "fig, ax = plt.subplots(1,1)\n",
    "illustrate_search(ax, simple_quad_obj.value, \n",
    "                  steepest_descent(simple_quad_obj.value, simple_quad_obj.grad, np.array([-2.0,0.0])),\n",
    "                  -5, 5, -5, 5)"
   ]
  },
  {
   "cell_type": "code",
   "execution_count": null,
   "id": "large-foster",
   "metadata": {},
   "outputs": [],
   "source": [
    "fig, ax = plt.subplots(1,1)\n",
    "illustrate_search(ax, stretched_quad_obj.value, \n",
    "                  steepest_descent(stretched_quad_obj.value, stretched_quad_obj.grad, np.array([-2.0,4.0])),\n",
    "                  -5, 5, -5, 5)"
   ]
  },
  {
   "cell_type": "markdown",
   "id": "brilliant-affiliation",
   "metadata": {},
   "source": [
    "### Newton"
   ]
  },
  {
   "cell_type": "code",
   "execution_count": null,
   "id": "acceptable-vessel",
   "metadata": {},
   "outputs": [],
   "source": [
    "fig, ax = plt.subplots(1,1)\n",
    "illustrate_search(ax, simple_quad_obj.value, \n",
    "                  newton(simple_quad_obj.value, simple_quad_obj.grad, simple_quad_obj.hess, np.array([-2.0,0.0])),\n",
    "                  -5, 5, -5, 5)"
   ]
  },
  {
   "cell_type": "code",
   "execution_count": null,
   "id": "informed-regression",
   "metadata": {},
   "outputs": [],
   "source": [
    "fig, ax = plt.subplots(1,1)\n",
    "illustrate_search(ax, stretched_quad_obj.value, \n",
    "                  newton(stretched_quad_obj.value, stretched_quad_obj.grad, stretched_quad_obj.hess, np.array([-2.0,4.0])),\n",
    "                  -5, 5, -5, 5)"
   ]
  },
  {
   "cell_type": "markdown",
   "id": "accredited-franklin",
   "metadata": {},
   "source": [
    "# CVXOPT-SVM\n",
    "\n",
    "There is an in-built, but we'll do it ourselves this time."
   ]
  },
  {
   "cell_type": "code",
   "execution_count": null,
   "id": "collect-theology",
   "metadata": {},
   "outputs": [],
   "source": [
    "(samples, classifications) = sklearn.datasets.make_blobs(centers=2)\n",
    "classifications = np.array([2 * float(c) - 1 for c in classifications]) #Map (0,1) to (-1,1)\n",
    "plt.scatter(samples[:,0], samples[:,1], c=['red' if c < 0 else 'blue' for c in classifications])"
   ]
  },
  {
   "cell_type": "code",
   "execution_count": null,
   "id": "patient-grill",
   "metadata": {},
   "outputs": [],
   "source": []
  },
  {
   "cell_type": "markdown",
   "id": "elementary-wages",
   "metadata": {},
   "source": [
    "# (Stochastic) subgradient\n",
    "\n",
    "(Exercise) Solve the \"SVM problem\" again, using a subgradient method and constant step size."
   ]
  },
  {
   "cell_type": "code",
   "execution_count": null,
   "id": "looking-biodiversity",
   "metadata": {},
   "outputs": [],
   "source": []
  },
  {
   "cell_type": "markdown",
   "id": "supported-overall",
   "metadata": {},
   "source": [
    "# Simple neural network\n",
    "Using a new blob of data we'll train a simple network with pytorch."
   ]
  },
  {
   "cell_type": "code",
   "execution_count": 1,
   "id": "controlling-mongolia",
   "metadata": {},
   "outputs": [
    {
     "ename": "NameError",
     "evalue": "name 'sklearn' is not defined",
     "output_type": "error",
     "traceback": [
      "\u001b[0;31m---------------------------------------------------------------------------\u001b[0m",
      "\u001b[0;31mNameError\u001b[0m                                 Traceback (most recent call last)",
      "Input \u001b[0;32mIn [1]\u001b[0m, in \u001b[0;36m<cell line: 1>\u001b[0;34m()\u001b[0m\n\u001b[0;32m----> 1\u001b[0m (samples, classifications) \u001b[38;5;241m=\u001b[39m \u001b[43msklearn\u001b[49m\u001b[38;5;241m.\u001b[39mdatasets\u001b[38;5;241m.\u001b[39mmake_blobs(n_samples\u001b[38;5;241m=\u001b[39m\u001b[38;5;241m1000\u001b[39m, centers\u001b[38;5;241m=\u001b[39m\u001b[38;5;241m2\u001b[39m)\n\u001b[1;32m      2\u001b[0m plt\u001b[38;5;241m.\u001b[39mscatter(samples[:,\u001b[38;5;241m0\u001b[39m], samples[:,\u001b[38;5;241m1\u001b[39m], c\u001b[38;5;241m=\u001b[39m[\u001b[38;5;124m'\u001b[39m\u001b[38;5;124mred\u001b[39m\u001b[38;5;124m'\u001b[39m \u001b[38;5;28;01mif\u001b[39;00m c \u001b[38;5;241m==\u001b[39m \u001b[38;5;241m0\u001b[39m \u001b[38;5;28;01melse\u001b[39;00m \u001b[38;5;124m'\u001b[39m\u001b[38;5;124mblue\u001b[39m\u001b[38;5;124m'\u001b[39m \u001b[38;5;28;01mfor\u001b[39;00m c \u001b[38;5;129;01min\u001b[39;00m classifications])\n\u001b[1;32m      3\u001b[0m training_length \u001b[38;5;241m=\u001b[39m \u001b[38;5;241m600\u001b[39m\n",
      "\u001b[0;31mNameError\u001b[0m: name 'sklearn' is not defined"
     ]
    }
   ],
   "source": [
    "(samples, classifications) = sklearn.datasets.make_blobs(n_samples=1000, centers=2)\n",
    "plt.scatter(samples[:,0], samples[:,1], c=['red' if c == 0 else 'blue' for c in classifications])\n",
    "training_length = 600 #400 for testing"
   ]
  },
  {
   "cell_type": "code",
   "execution_count": null,
   "id": "stunning-cutting",
   "metadata": {},
   "outputs": [],
   "source": []
  }
 ],
 "metadata": {
  "kernelspec": {
   "display_name": "Python [conda env:stk9215]",
   "language": "python",
   "name": "conda-env-stk9215-py"
  },
  "language_info": {
   "codemirror_mode": {
    "name": "ipython",
    "version": 3
   },
   "file_extension": ".py",
   "mimetype": "text/x-python",
   "name": "python",
   "nbconvert_exporter": "python",
   "pygments_lexer": "ipython3",
   "version": "3.10.6"
  }
 },
 "nbformat": 4,
 "nbformat_minor": 5
}
